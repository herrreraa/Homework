{
  "nbformat": 4,
  "nbformat_minor": 0,
  "metadata": {
    "colab": {
      "provenance": []
    },
    "kernelspec": {
      "name": "python3",
      "display_name": "Python 3"
    },
    "language_info": {
      "name": "python"
    }
  },
  "cells": [
    {
      "cell_type": "code",
      "execution_count": 3,
      "metadata": {
        "colab": {
          "base_uri": "https://localhost:8080/"
        },
        "id": "AE_0vumx68_G",
        "outputId": "3f96dbb4-ce9d-4f50-ced0-65c3275e129c"
      },
      "outputs": [
        {
          "output_type": "stream",
          "name": "stdout",
          "text": [
            "Proceso completado. Resumen guardado en 'resumen_vacunacion.csv' y 'resumen_vacunacion.xlsx'\n"
          ]
        }
      ],
      "source": [
        "import pandas as pd\n",
        "import numpy as np\n",
        "\n",
        "# Cargar los datos desde un archivo CSV (ajustar la ruta según sea necesario)\n",
        "file_path = 'country_vaccinations.csv'  # Reemplazar con la ruta real del archivo\n",
        "df = pd.read_csv(file_path)\n",
        "\n",
        "# Seleccionar columnas relevantes\n",
        "columns = [\n",
        "    'country', 'iso_code', 'date', 'total_vaccinations', 'people_vaccinated',\n",
        "    'people_fully_vaccinated', 'daily_vaccinations', 'total_vaccinations_per_hundred',\n",
        "    'people_vaccinated_per_hundred', 'people_fully_vaccinated_per_hundred'\n",
        "]\n",
        "df = df[columns]\n",
        "\n",
        "# Convertir la columna de fecha a formato datetime\n",
        "df['date'] = pd.to_datetime(df['date'])\n",
        "\n",
        "# Manejo de valores nulos: reemplazar NaN con 0 donde sea necesario\n",
        "df.fillna(0, inplace=True)\n",
        "\n",
        "# Crear un resumen por país\n",
        "resumen = df.groupby('country').agg(\n",
        "    total_vacunas=('total_vaccinations', 'max'),\n",
        "    personas_vacunadas=('people_vaccinated', 'max'),\n",
        "    personas_fully_vacunadas=('people_fully_vaccinated', 'max'),\n",
        "    promedio_vacunas_diarias=('daily_vaccinations', 'mean')\n",
        ").reset_index()\n",
        "\n",
        "# Generar nuevos datos: porcentaje de población totalmente vacunada\n",
        "resumen['porcentaje_fully_vacunados'] = (\n",
        "    resumen['personas_fully_vacunadas'] / resumen['personas_vacunadas'] * 100\n",
        ").fillna(0)\n",
        "\n",
        "# Guardar el resumen en un archivo CSV y Excel\n",
        "resumen.to_csv('resumen_vacunacion.csv', index=False)\n",
        "resumen.to_excel('resumen_vacunacion.xlsx', index=False)\n",
        "\n",
        "print(\"Proceso completado. Resumen guardado en 'resumen_vacunacion.csv' y 'resumen_vacunacion.xlsx'\")\n",
        "\n"
      ]
    }
  ]
}